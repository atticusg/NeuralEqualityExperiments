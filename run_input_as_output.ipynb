{
 "cells": [
  {
   "cell_type": "markdown",
   "metadata": {},
   "source": [
    "# Input-as-output experiments"
   ]
  },
  {
   "cell_type": "code",
   "execution_count": null,
   "metadata": {},
   "outputs": [],
   "source": [
    "from equality_experiment import InputAsOutputExperiment\n",
    "from equality_experiment import PretrainedInputAsOutputExperiment\n",
    "import utils"
   ]
  },
  {
   "cell_type": "code",
   "execution_count": null,
   "metadata": {},
   "outputs": [],
   "source": [
    "utils.fix_random_seeds()"
   ]
  },
  {
   "cell_type": "code",
   "execution_count": null,
   "metadata": {},
   "outputs": [],
   "source": [
    "debugging = True\n",
    "\n",
    "debugging_params = dict(\n",
    "    embed_dims=[50],\n",
    "    hidden_dims=[50],\n",
    "    alphas=[0.001],\n",
    "    learning_rates=[0.01],\n",
    "    n_trials=2,\n",
    "    train_sizes=list(range(104, 2001, 100))\n",
    ")\n",
    "\n",
    "experiment_params = dict(\n",
    "    embed_dims=[2, 10, 25, 50, 100],\n",
    "    hidden_dims=[50],\n",
    "    alphas=[0.00001, 0.0001, 0.001],\n",
    "    learning_rates=[0.0001, 0.001, 0.01],\n",
    "    n_trials=20,\n",
    "    train_sizes=list(range(104, 2001, 100))\n",
    ")\n",
    "\n",
    "params = debugging_params if debugging else experiment_params"
   ]
  },
  {
   "cell_type": "markdown",
   "metadata": {},
   "source": [
    "## Basic input-as-output experiment"
   ]
  },
  {
   "cell_type": "code",
   "execution_count": null,
   "metadata": {},
   "outputs": [],
   "source": [
    "experiment = InputAsOutputExperiment(\n",
    "    **params)\n",
    "\n",
    "df = experiment.run()\n",
    "\n",
    "experiment.to_csv()"
   ]
  },
  {
   "cell_type": "markdown",
   "metadata": {},
   "source": [
    "## Input-as-output with pretraining experiments"
   ]
  },
  {
   "cell_type": "code",
   "execution_count": null,
   "metadata": {},
   "outputs": [],
   "source": [
    "def run_pretraining_experiment(\n",
    "        rep_pretrain_tasks=3,\n",
    "        rep_pretrain_max_iter=50,\n",
    "        equality_pretrain_max_iter=200):\n",
    "    experiment = PretrainedInputAsOutputExperiment(\n",
    "        rep_pretrain_tasks,\n",
    "        rep_pretrain_max_iter,\n",
    "        equality_pretrain_max_iter,\n",
    "        **params)\n",
    "    df = experiment.run()\n",
    "    experiment.to_csv()\n",
    "    return df"
   ]
  },
  {
   "cell_type": "code",
   "execution_count": null,
   "metadata": {},
   "outputs": [],
   "source": [
    "_ = run_pretraining_experiment(rep_pretrain_tasks=3)"
   ]
  },
  {
   "cell_type": "code",
   "execution_count": null,
   "metadata": {},
   "outputs": [],
   "source": [
    "_ = run_pretraining_experiment(rep_pretrain_tasks=5)"
   ]
  },
  {
   "cell_type": "code",
   "execution_count": null,
   "metadata": {},
   "outputs": [],
   "source": [
    "_ = run_pretraining_experiment(rep_pretrain_tasks=10)"
   ]
  }
 ],
 "metadata": {
  "kernelspec": {
   "display_name": "Python 3",
   "language": "python",
   "name": "python3"
  },
  "language_info": {
   "codemirror_mode": {
    "name": "ipython",
    "version": 3
   },
   "file_extension": ".py",
   "mimetype": "text/x-python",
   "name": "python",
   "nbconvert_exporter": "python",
   "pygments_lexer": "ipython3",
   "version": "3.8.8"
  }
 },
 "nbformat": 4,
 "nbformat_minor": 4
}
