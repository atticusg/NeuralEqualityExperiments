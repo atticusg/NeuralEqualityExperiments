{
 "cells": [
  {
   "cell_type": "markdown",
   "metadata": {},
   "source": [
    "# View best hyperparameters"
   ]
  },
  {
   "cell_type": "code",
   "execution_count": null,
   "metadata": {},
   "outputs": [],
   "source": [
    "import glob\n",
    "import os\n",
    "import pandas as pd"
   ]
  },
  {
   "cell_type": "code",
   "execution_count": null,
   "metadata": {},
   "outputs": [],
   "source": [
    "def get_optimal_hyperparmeters(src_filename, accuracy_colname=\"accuracy\"):\n",
    "\n",
    "    df = pd.read_csv(src_filename, index_col=None)\n",
    "\n",
    "    def per_group(group_df):\n",
    "        return group_df.groupby(['alpha', 'learning_rate']).apply(\n",
    "            lambda x: x[accuracy_colname].mean()).idxmax()\n",
    "\n",
    "    data = df.groupby(['embed_dim', 'hidden_dim']).apply(per_group)\n",
    "    data = data.to_frame()\n",
    "    data['alpha'], data['learning_rate'] = zip(*data[0])\n",
    "    data = data.drop(0, axis=1).reset_index()\n",
    "    return data"
   ]
  },
  {
   "cell_type": "code",
   "execution_count": null,
   "metadata": {},
   "outputs": [],
   "source": [
    "all_results_filenames = sorted(glob.glob(os.path.join(\"results\", \"*.csv\")))"
   ]
  },
  {
   "cell_type": "code",
   "execution_count": null,
   "metadata": {},
   "outputs": [],
   "source": [
    "for filename in all_results_filenames:\n",
    "    print(\"=\" * 70)\n",
    "    print(os.path.basename(filename))\n",
    "    display(get_optimal_hyperparmeters(filename))"
   ]
  },
  {
   "cell_type": "code",
   "execution_count": null,
   "metadata": {},
   "outputs": [],
   "source": []
  }
 ],
 "metadata": {
  "kernelspec": {
   "display_name": "Python 3",
   "language": "python",
   "name": "python3"
  },
  "language_info": {
   "codemirror_mode": {
    "name": "ipython",
    "version": 3
   },
   "file_extension": ".py",
   "mimetype": "text/x-python",
   "name": "python",
   "nbconvert_exporter": "python",
   "pygments_lexer": "ipython3",
   "version": "3.8.8"
  }
 },
 "nbformat": 4,
 "nbformat_minor": 4
}
