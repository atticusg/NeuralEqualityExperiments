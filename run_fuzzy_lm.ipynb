{
 "cells": [
  {
   "cell_type": "markdown",
   "metadata": {},
   "source": [
    "# Fuzzy pattern LM experiments"
   ]
  },
  {
   "cell_type": "code",
   "execution_count": null,
   "metadata": {},
   "outputs": [],
   "source": [
    "from fuzzy_lm_experiment import FuzzyPatternLMExperiment\n",
    "import torch.nn as nn\n",
    "import utils"
   ]
  },
  {
   "cell_type": "code",
   "execution_count": null,
   "metadata": {},
   "outputs": [],
   "source": [
    "utils.fix_random_seeds()"
   ]
  },
  {
   "cell_type": "code",
   "execution_count": null,
   "metadata": {},
   "outputs": [],
   "source": [
    "debugging = False\n",
    "\n",
    "debugging_params = dict(\n",
    "    embed_dims=[2],\n",
    "    hidden_dims=[100],\n",
    "    alphas=[0.001],\n",
    "    learning_rates=[0.01],\n",
    "    n_trials=10\n",
    ")\n",
    "\n",
    "experiment_params = dict(\n",
    "    embed_dims=[2, 10, 25, 50, 100],\n",
    "    hidden_dims=[2, 10, 25, 50, 100],\n",
    "    alphas=[0.00001, 0.0001, 0.001],\n",
    "    learning_rates=[0.0001, 0.001, 0.01],\n",
    "    n_trials=20\n",
    ")\n",
    "\n",
    "params = debugging_params if debugging else experiment_params"
   ]
  },
  {
   "cell_type": "code",
   "execution_count": null,
   "metadata": {},
   "outputs": [],
   "source": [
    "def run_experiment(\n",
    "        train_vocab_size=20,\n",
    "        pretrain_tasks=None,\n",
    "        pretrain_max_iter=10):\n",
    "    experiment = FuzzyPatternLMExperiment(\n",
    "        train_vocab_size=train_vocab_size,\n",
    "        pretrain_tasks=pretrain_tasks,\n",
    "        pretrain_max_iter=pretrain_max_iter,\n",
    "        **params)\n",
    "    df = experiment.run()\n",
    "    experiment.to_csv()"
   ]
  },
  {
   "cell_type": "markdown",
   "metadata": {},
   "source": [
    "## No pretraining"
   ]
  },
  {
   "cell_type": "code",
   "execution_count": null,
   "metadata": {},
   "outputs": [],
   "source": [
    "run_experiment(train_vocab_size=20)"
   ]
  },
  {
   "cell_type": "code",
   "execution_count": null,
   "metadata": {},
   "outputs": [],
   "source": [
    "_ = run_experiment(train_vocab_size=20, pretrain_tasks=3)"
   ]
  },
  {
   "cell_type": "code",
   "execution_count": null,
   "metadata": {},
   "outputs": [],
   "source": [
    "_ = run_experiment(train_vocab_size=20, pretrain_tasks=5)"
   ]
  },
  {
   "cell_type": "code",
   "execution_count": null,
   "metadata": {},
   "outputs": [],
   "source": [
    "_ = run_experiment(train_vocab_size=20, pretrain_tasks=10)"
   ]
  },
  {
   "cell_type": "code",
   "execution_count": null,
   "metadata": {},
   "outputs": [],
   "source": []
  }
 ],
 "metadata": {
  "kernelspec": {
   "display_name": "Python 3",
   "language": "python",
   "name": "python3"
  },
  "language_info": {
   "codemirror_mode": {
    "name": "ipython",
    "version": 3
   },
   "file_extension": ".py",
   "mimetype": "text/x-python",
   "name": "python",
   "nbconvert_exporter": "python",
   "pygments_lexer": "ipython3",
   "version": "3.8.8"
  }
 },
 "nbformat": 4,
 "nbformat_minor": 4
}
