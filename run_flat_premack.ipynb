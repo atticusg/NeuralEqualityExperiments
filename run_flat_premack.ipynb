{
 "cells": [
  {
   "cell_type": "markdown",
   "metadata": {},
   "source": [
    "# Fully flattened Premack"
   ]
  },
  {
   "cell_type": "code",
   "execution_count": null,
   "metadata": {},
   "outputs": [],
   "source": [
    "from datasets import PremackDataset\n",
    "from equality_experiment import EqualityExperiment, PretrainedEqualityExperiment\n",
    "import os\n",
    "from trained_datasets import TrainedPremackDataset\n",
    "import utils"
   ]
  },
  {
   "cell_type": "code",
   "execution_count": null,
   "metadata": {},
   "outputs": [],
   "source": [
    "utils.fix_random_seeds()"
   ]
  },
  {
   "cell_type": "code",
   "execution_count": null,
   "metadata": {},
   "outputs": [],
   "source": [
    "debugging = False\n",
    "\n",
    "debugging_params = dict(\n",
    "    embed_dims=[50],\n",
    "    hidden_dims=[50],\n",
    "    alphas=[0.001],\n",
    "    learning_rates=[0.01],\n",
    "    n_trials=2\n",
    ")\n",
    "\n",
    "experiment_params = dict(\n",
    "    embed_dims=[2, 10, 25, 50, 100],\n",
    "    hidden_dims=[2, 10, 25, 50, 100],\n",
    "    alphas=[0.00001, 0.0001, 0.001],\n",
    "    learning_rates=[0.0001, 0.001, 0.01],\n",
    "    n_trials=20\n",
    ")\n",
    "\n",
    "# To save on experiment costs, the dimensionalities are\n",
    "# chosen based on the best models for the versions without\n",
    "# any pretraining and the learning rate is set to be the\n",
    "# one that is almost always optimal for these experiments.\n",
    "pretrain_experiment_params = dict(\n",
    "    embed_dims=[10],\n",
    "    hidden_dims=[100],\n",
    "    alphas=[0.00001, 0.0001, 0.001],\n",
    "    learning_rates=[0.01],\n",
    "    n_trials=20\n",
    ")\n",
    "\n",
    "params = debugging_params if debugging else experiment_params\n",
    "pretrain_params = debugging_params if debugging else pretrain_experiment_params"
   ]
  },
  {
   "cell_type": "markdown",
   "metadata": {},
   "source": [
    "## One hidden layer"
   ]
  },
  {
   "cell_type": "code",
   "execution_count": null,
   "metadata": {},
   "outputs": [],
   "source": [
    "experiment_h1 = EqualityExperiment(\n",
    "    dataset_class=PremackDataset,\n",
    "    n_hidden=1,\n",
    "    train_sizes=list(range(104, 100005, 5000)),\n",
    "    **params)\n",
    "\n",
    "df_h1 = experiment_h1.run()\n",
    "\n",
    "experiment_h1.to_csv(\"flatpremack-h1.csv\")"
   ]
  },
  {
   "cell_type": "markdown",
   "metadata": {},
   "source": [
    "## Two hidden layers"
   ]
  },
  {
   "cell_type": "code",
   "execution_count": null,
   "metadata": {},
   "outputs": [],
   "source": [
    "experiment_h2 = EqualityExperiment(\n",
    "    dataset_class=PremackDataset,\n",
    "    n_hidden=2,\n",
    "    train_sizes=list(range(104, 100005, 5000)),\n",
    "    **params)\n",
    "\n",
    "df_h2 = experiment_h2.run()\n",
    "\n",
    "experiment_h2.to_csv(\"flatpremack-h2.csv\")"
   ]
  },
  {
   "cell_type": "markdown",
   "metadata": {},
   "source": [
    "## With pretraining and class holdout"
   ]
  },
  {
   "cell_type": "code",
   "execution_count": null,
   "metadata": {},
   "outputs": [],
   "source": [
    "def run_pretraining_experiment(n_tasks=3, max_iter=10, n_hidden=1):\n",
    "    experiment = PretrainedEqualityExperiment(\n",
    "        n_tasks,\n",
    "        max_iter,\n",
    "        dataset_class=TrainedPremackDataset,\n",
    "        n_hidden=n_hidden,\n",
    "        train_sizes=list(range(104, 15005, 100)),\n",
    "        **pretrain_params)\n",
    "\n",
    "    df = experiment.run()\n",
    "\n",
    "    base_filename = \"flatpremack-h{}-pretrain-{}tasks.csv\".format(n_hidden, n_tasks)\n",
    "\n",
    "    experiment.to_csv(base_filename)"
   ]
  },
  {
   "cell_type": "markdown",
   "metadata": {},
   "source": [
    "### One hidden layer"
   ]
  },
  {
   "cell_type": "code",
   "execution_count": null,
   "metadata": {},
   "outputs": [],
   "source": [
    "#run_pretraining_experiment(n_tasks=3, n_hidden=1)"
   ]
  },
  {
   "cell_type": "code",
   "execution_count": null,
   "metadata": {},
   "outputs": [],
   "source": [
    "#run_pretraining_experiment(n_tasks=5, n_hidden=1)"
   ]
  },
  {
   "cell_type": "code",
   "execution_count": null,
   "metadata": {},
   "outputs": [],
   "source": [
    "#run_pretraining_experiment(n_tasks=10, n_hidden=1)"
   ]
  },
  {
   "cell_type": "markdown",
   "metadata": {},
   "source": [
    "### Two hidden layers"
   ]
  },
  {
   "cell_type": "code",
   "execution_count": null,
   "metadata": {},
   "outputs": [],
   "source": [
    "run_pretraining_experiment(n_tasks=3, n_hidden=2)"
   ]
  },
  {
   "cell_type": "code",
   "execution_count": null,
   "metadata": {},
   "outputs": [],
   "source": [
    "run_pretraining_experiment(n_tasks=5, n_hidden=2)"
   ]
  },
  {
   "cell_type": "code",
   "execution_count": null,
   "metadata": {},
   "outputs": [],
   "source": [
    "run_pretraining_experiment(n_tasks=10, n_hidden=2)"
   ]
  },
  {
   "cell_type": "code",
   "execution_count": null,
   "metadata": {},
   "outputs": [],
   "source": []
  }
 ],
 "metadata": {
  "kernelspec": {
   "display_name": "Python 3",
   "language": "python",
   "name": "python3"
  },
  "language_info": {
   "codemirror_mode": {
    "name": "ipython",
    "version": 3
   },
   "file_extension": ".py",
   "mimetype": "text/x-python",
   "name": "python",
   "nbconvert_exporter": "python",
   "pygments_lexer": "ipython3",
   "version": "3.8.8"
  }
 },
 "nbformat": 4,
 "nbformat_minor": 4
}
