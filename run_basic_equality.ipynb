{
 "cells": [
  {
   "cell_type": "markdown",
   "metadata": {},
   "source": [
    "# Basic equality"
   ]
  },
  {
   "cell_type": "code",
   "execution_count": null,
   "metadata": {},
   "outputs": [],
   "source": [
    "from datasets import EqualityDataset\n",
    "from equality_experiment import EqualityExperiment, PretrainedEqualityExperiment\n",
    "import os\n",
    "from trained_datasets import TrainedEqualityDataset\n",
    "import utils"
   ]
  },
  {
   "cell_type": "code",
   "execution_count": null,
   "metadata": {},
   "outputs": [],
   "source": [
    "utils.fix_random_seeds()"
   ]
  },
  {
   "cell_type": "code",
   "execution_count": null,
   "metadata": {},
   "outputs": [],
   "source": [
    "debugging = False\n",
    "\n",
    "debugging_params = dict(\n",
    "    embed_dims=[50],\n",
    "    hidden_dims=[50],\n",
    "    alphas=[0.001],\n",
    "    learning_rates=[0.01],\n",
    "    n_trials=2,\n",
    "    train_sizes=list(range(104, 2005, 100))\n",
    ")\n",
    "\n",
    "experiment_params = dict(\n",
    "    embed_dims=[2, 10, 25, 50, 100],\n",
    "    hidden_dims=[2, 10, 25, 50, 100],\n",
    "    alphas=[0.00001, 0.0001, 0.001],\n",
    "    learning_rates=[0.0001, 0.001, 0.01],\n",
    "    n_trials=20,\n",
    "    train_sizes=list(range(104, 2005, 100))\n",
    ")\n",
    "\n",
    "params = debugging_params if debugging else experiment_params"
   ]
  },
  {
   "cell_type": "markdown",
   "metadata": {},
   "source": [
    "## No pretraining"
   ]
  },
  {
   "cell_type": "code",
   "execution_count": null,
   "metadata": {},
   "outputs": [],
   "source": [
    "experiment = EqualityExperiment(\n",
    "    dataset_class=EqualityDataset,\n",
    "    **params)\n",
    "\n",
    "df = experiment.run()\n",
    "\n",
    "experiment.to_csv(\"equality.csv\")"
   ]
  },
  {
   "cell_type": "markdown",
   "metadata": {},
   "source": [
    "## With pretraining"
   ]
  },
  {
   "cell_type": "code",
   "execution_count": null,
   "metadata": {},
   "outputs": [],
   "source": [
    "def with_pretraining(n_tasks=3, max_iter=10):\n",
    "    experiment = PretrainedEqualityExperiment(\n",
    "        n_tasks,\n",
    "        max_iter,\n",
    "        dataset_class=TrainedEqualityDataset,\n",
    "        **params)\n",
    "    df = experiment.run()\n",
    "    experiment.to_csv(f\"equality-pretrain-{n_tasks}tasks.csv\")"
   ]
  },
  {
   "cell_type": "code",
   "execution_count": null,
   "metadata": {},
   "outputs": [],
   "source": [
    "with_pretraining(n_tasks=3)"
   ]
  },
  {
   "cell_type": "code",
   "execution_count": null,
   "metadata": {},
   "outputs": [],
   "source": [
    "with_pretraining(n_tasks=5)"
   ]
  },
  {
   "cell_type": "code",
   "execution_count": null,
   "metadata": {},
   "outputs": [],
   "source": [
    "with_pretraining(n_tasks=10)"
   ]
  }
 ],
 "metadata": {
  "kernelspec": {
   "display_name": "Python 3",
   "language": "python",
   "name": "python3"
  },
  "language_info": {
   "codemirror_mode": {
    "name": "ipython",
    "version": 3
   },
   "file_extension": ".py",
   "mimetype": "text/x-python",
   "name": "python",
   "nbconvert_exporter": "python",
   "pygments_lexer": "ipython3",
   "version": "3.8.8"
  }
 },
 "nbformat": 4,
 "nbformat_minor": 4
}
