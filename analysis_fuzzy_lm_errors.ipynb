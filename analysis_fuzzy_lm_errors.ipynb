{
 "cells": [
  {
   "cell_type": "code",
   "execution_count": null,
   "metadata": {},
   "outputs": [],
   "source": [
    "import string\n",
    "\n",
    "from torch_fuzzy_lm import FuzzyPatternLM, START_SYMBOL, END_SYMBOL\n",
    "from fuzzy_lm_experiment import DatasetABA, FuzzyPatternLMExperiment"
   ]
  },
  {
   "cell_type": "code",
   "execution_count": null,
   "metadata": {},
   "outputs": [],
   "source": [
    "train_vocab_size = 20\n",
    "\n",
    "train_vocab = list(map(str, range(train_vocab_size)))\n",
    "\n",
    "test_vocab = list(string.ascii_letters)\n",
    "\n",
    "full_vocab = train_vocab + test_vocab\n",
    "full_vocab += [START_SYMBOL, END_SYMBOL]"
   ]
  },
  {
   "cell_type": "code",
   "execution_count": null,
   "metadata": {},
   "outputs": [],
   "source": [
    "def evaluate(model, split_key=\"\"):\n",
    "    split = dataset.test\n",
    "    test_len = len(split[0])\n",
    "    prompts = sorted({tuple(ex[: 2]) for ex in split})\n",
    "    all_preds = set()\n",
    "    for prompt in prompts:\n",
    "        pred = tuple(model.predict_one(prompt))\n",
    "        all_preds.add(pred)\n",
    "    corr_key = \"{}correct\".format(split_key)\n",
    "    n_corr_key = '{}n_correct'.format(split_key)\n",
    "    incorr_key = \"{}incorrect\".format(split_key)\n",
    "    n_incorrect_key = '{}n_incorrect'.format(split_key)\n",
    "    accuracy_key = \"{}accuracy\".format(split_key)\n",
    "    data = {\n",
    "        corr_key: [],\n",
    "        incorr_key: []}\n",
    "    for p in all_preds:\n",
    "        if dataset.is_error(p, test_len):\n",
    "            data[incorr_key].append(p)\n",
    "        else:\n",
    "            data[corr_key].append(p)\n",
    "    data[n_corr_key] = len(data[corr_key])\n",
    "    data[n_incorrect_key] = len(data[incorr_key])\n",
    "    data[accuracy_key] = data[n_corr_key] / len(all_preds)\n",
    "    return data"
   ]
  },
  {
   "cell_type": "code",
   "execution_count": null,
   "metadata": {},
   "outputs": [],
   "source": [
    "dataset = DatasetABA(train_vocab, test_vocab)"
   ]
  },
  {
   "cell_type": "code",
   "execution_count": null,
   "metadata": {},
   "outputs": [],
   "source": [
    "model = FuzzyPatternLM(\n",
    "    vocab=full_vocab,\n",
    "    embed_dim=2,\n",
    "    hidden_dim=100,\n",
    "    embedding=None,\n",
    "    warm_start=True,\n",
    "    max_iter=150,\n",
    "    eta=0.01,\n",
    "    alpha=0)"
   ]
  },
  {
   "cell_type": "code",
   "execution_count": null,
   "metadata": {},
   "outputs": [],
   "source": [
    "model.fit(dataset.train, eval_func=evaluate)"
   ]
  },
  {
   "cell_type": "code",
   "execution_count": null,
   "metadata": {},
   "outputs": [],
   "source": [
    "preds = model.results.copy()"
   ]
  },
  {
   "cell_type": "code",
   "execution_count": null,
   "metadata": {},
   "outputs": [],
   "source": [
    "preds[-1]['incorrect']"
   ]
  },
  {
   "cell_type": "code",
   "execution_count": null,
   "metadata": {},
   "outputs": [],
   "source": []
  }
 ],
 "metadata": {
  "kernelspec": {
   "display_name": "Python 3",
   "language": "python",
   "name": "python3"
  },
  "language_info": {
   "codemirror_mode": {
    "name": "ipython",
    "version": 3
   },
   "file_extension": ".py",
   "mimetype": "text/x-python",
   "name": "python",
   "nbconvert_exporter": "python",
   "pygments_lexer": "ipython3",
   "version": "3.7.6"
  }
 },
 "nbformat": 4,
 "nbformat_minor": 4
}
